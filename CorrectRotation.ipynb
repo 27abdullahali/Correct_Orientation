{
 "cells": [
  {
   "cell_type": "code",
   "execution_count": 1,
   "id": "8ee90263",
   "metadata": {},
   "outputs": [],
   "source": [
    "import numpy as np\n",
    "import cv2\n",
    "import os\n",
    "from os import listdir\n",
    "\n",
    "from skimage.transform import (hough_line, hough_line_peaks,\n",
    "                               probabilistic_hough_line)\n",
    "from skimage.feature import canny\n",
    "from skimage import data\n",
    "\n",
    "from pylab import imread, imshow, gray, mean\n",
    "import matplotlib.pyplot as plt\n",
    "import math\n",
    "import PIL\n",
    "from PIL import Image\n",
    "from IPython.display import Image as pyImage\n",
    "from IPython.display import display\n",
    "import heapdict\n",
    "from io import BytesIO"
   ]
  },
  {
   "cell_type": "code",
   "execution_count": 2,
   "id": "de040846",
   "metadata": {},
   "outputs": [
    {
     "name": "stdout",
     "output_type": "stream",
     "text": [
      "How many images to skip: 0\n"
     ]
    }
   ],
   "source": [
    "folder_dir = \"/Users/27abd/Desktop/GPIP/Segmented/CS5\"\n",
    "imageNum = 0\n",
    "\n",
    "numSkips = input(\"How many images to skip: \") \n",
    "if numSkips.isnumeric(): \n",
    "    numSkips = int(numSkips) "
   ]
  },
  {
   "cell_type": "code",
   "execution_count": null,
   "id": "5fa74699",
   "metadata": {},
   "outputs": [
    {
     "name": "stdout",
     "output_type": "stream",
     "text": [
      "Image # 1\n"
     ]
    }
   ],
   "source": [
    "for image_name in os.listdir(folder_dir): \n",
    "    save_dir = \"/Users/27abd/Desktop/GPIP/Corrected_Images/CS5\"\n",
    "    imageNum = imageNum + 1 \n",
    "    print (\"Image #\", imageNum) \n",
    "    if (imageNum < numSkips): \n",
    "        continue\n",
    "    image = cv2.imread(\"Segmented/CS5/\" + image_name)\n",
    "    plt.imshow(image)\n",
    "    gray = cv2.cvtColor(image,cv2.COLOR_BGR2GRAY)\n",
    "\n",
    "    # Use canny edge detection\n",
    "    edges = cv2.Canny(gray,50,150,apertureSize=3)\n",
    "\n",
    "    # Apply HoughLinesP method to\n",
    "    # to directly obtain line end points\n",
    "    lines_list =[]\n",
    "    lines = cv2.HoughLinesP(\n",
    "                edges, # Input edge image\n",
    "                1, # Distance resolution in pixels\n",
    "                np.pi/180, # Angle resolution in radians\n",
    "                threshold=42, # Min number of votes for valid line\n",
    "                minLineLength=35, # Min allowed length of line\n",
    "                maxLineGap=15 # Max allowed gap between line for joining them\n",
    "                )\n",
    "\n",
    "    if lines is None:\n",
    "        continue\n",
    "    maxDistance = 0\n",
    "    line_q = []\n",
    "\n",
    "    # Iterate over points\n",
    "    for points in lines:\n",
    "          # Extracted points nested in the list\n",
    "        x1,y1,x2,y2=points[0]\n",
    "        distance = math.sqrt( ((x2-x1)**2) + ((y2 - y1)**2) )\n",
    "        angle = -(math.atan( (x2 - x1) / (y2 - y1) ) * ( 180 / math.pi ))\n",
    "        line_q.append((distance, angle))\n",
    "\n",
    "        # On the original image\n",
    "        cv2.line(image,(x1,y1),(x2,y2),(0,255,0),2)\n",
    "        # Maintain a simples lookup list for points\n",
    "        lines_list.append([(x1,y1),(x2,y2)])\n",
    "    line_q.sort(reverse=True)\n",
    "\n",
    "    save_angle = False\n",
    "    Original_Image = Image.open(\"Segmented/CS5/\" + image_name)\n",
    "    if(not line_q):\n",
    "        Original_Image.show()\n",
    "    skip = False\n",
    "\n",
    "    while (save_angle == False and line_q and skip == False):\n",
    "        currAngle = line_q.pop(0)[1]\n",
    "        rotated_image = Original_Image.rotate(currAngle)\n",
    "        rotated_image.show()\n",
    "        userInput = input(\"save angle? (y/n)(s to skip) (i to input)\")\n",
    "\n",
    "        if (userInput == \"y\"):\n",
    "            save_angle = True\n",
    "        if (userInput == \"s\"):\n",
    "            skip = True\n",
    "        if (userInput == \"i\"):\n",
    "            break\n",
    "    if (skip == True):\n",
    "        continue\n",
    "    if (userInput != \"y\" and (not line_q or userInput == \"i\")):\n",
    "        userInput = \"n\"\n",
    "        while (userInput != \"y\"):\n",
    "            angle = input(\"what angle?: \")\n",
    "            if angle.isnumeric():\n",
    "                angle = int(angle)\n",
    "            else:\n",
    "                continue\n",
    "            rotated_image = Original_Image.rotate(angle)\n",
    "            rotated_image.show()\n",
    "            userInput = input(\"good? (y/n)\")\n",
    "    save_name = \"/Corrected\" + image_name\n",
    "    \n",
    "        # Save the result image\n",
    "    save_dir = save_dir + save_name\n",
    "    rotated_image.save(save_dir)"
   ]
  },
  {
   "cell_type": "code",
   "execution_count": null,
   "id": "e3427818",
   "metadata": {},
   "outputs": [],
   "source": []
  }
 ],
 "metadata": {
  "kernelspec": {
   "display_name": "Python 3 (ipykernel)",
   "language": "python",
   "name": "python3"
  },
  "language_info": {
   "codemirror_mode": {
    "name": "ipython",
    "version": 3
   },
   "file_extension": ".py",
   "mimetype": "text/x-python",
   "name": "python",
   "nbconvert_exporter": "python",
   "pygments_lexer": "ipython3",
   "version": "3.9.13"
  }
 },
 "nbformat": 4,
 "nbformat_minor": 5
}
